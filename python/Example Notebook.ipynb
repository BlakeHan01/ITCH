{
 "cells": [
  {
   "cell_type": "code",
   "execution_count": 1,
   "metadata": {},
   "outputs": [],
   "source": [
    "import environment\n",
    "import os\n",
    "import pandas as pd\n",
    "import numpy as np\n",
    "from scipy import stats"
   ]
  },
  {
   "cell_type": "code",
   "execution_count": 20,
   "metadata": {},
   "outputs": [],
   "source": [
    "a = environment.ts('01302019','NASDAQ','CSCO')"
   ]
  },
  {
   "cell_type": "code",
   "execution_count": 21,
   "metadata": {},
   "outputs": [
    {
     "data": {
      "text/html": [
       "<div>\n",
       "<style scoped>\n",
       "    .dataframe tbody tr th:only-of-type {\n",
       "        vertical-align: middle;\n",
       "    }\n",
       "\n",
       "    .dataframe tbody tr th {\n",
       "        vertical-align: top;\n",
       "    }\n",
       "\n",
       "    .dataframe thead th {\n",
       "        text-align: right;\n",
       "    }\n",
       "</style>\n",
       "<table border=\"1\" class=\"dataframe\">\n",
       "  <thead>\n",
       "    <tr style=\"text-align: right;\">\n",
       "      <th></th>\n",
       "      <th>time</th>\n",
       "      <th>1_bid_price</th>\n",
       "      <th>1_bid_vol</th>\n",
       "      <th>1_ask_price</th>\n",
       "      <th>1_ask_vol</th>\n",
       "      <th>2_bid_price</th>\n",
       "      <th>2_bid_vol</th>\n",
       "      <th>2_ask_price</th>\n",
       "      <th>2_ask_vol</th>\n",
       "      <th>3_bid_price</th>\n",
       "      <th>...</th>\n",
       "      <th>3_ask_price</th>\n",
       "      <th>3_ask_vol</th>\n",
       "      <th>4_bid_price</th>\n",
       "      <th>4_bid_vol</th>\n",
       "      <th>4_ask_price</th>\n",
       "      <th>4_ask_vol</th>\n",
       "      <th>5_bid_price</th>\n",
       "      <th>5_bid_vol</th>\n",
       "      <th>5_ask_price</th>\n",
       "      <th>5_ask_vol</th>\n",
       "    </tr>\n",
       "  </thead>\n",
       "  <tbody>\n",
       "    <tr>\n",
       "      <th>0</th>\n",
       "      <td>14408663402213</td>\n",
       "      <td>45.76</td>\n",
       "      <td>100.0</td>\n",
       "      <td>NaN</td>\n",
       "      <td>NaN</td>\n",
       "      <td>NaN</td>\n",
       "      <td>NaN</td>\n",
       "      <td>NaN</td>\n",
       "      <td>NaN</td>\n",
       "      <td>NaN</td>\n",
       "      <td>...</td>\n",
       "      <td>NaN</td>\n",
       "      <td>NaN</td>\n",
       "      <td>NaN</td>\n",
       "      <td>NaN</td>\n",
       "      <td>NaN</td>\n",
       "      <td>NaN</td>\n",
       "      <td>NaN</td>\n",
       "      <td>NaN</td>\n",
       "      <td>NaN</td>\n",
       "      <td>NaN</td>\n",
       "    </tr>\n",
       "    <tr>\n",
       "      <th>1</th>\n",
       "      <td>14408805518619</td>\n",
       "      <td>45.76</td>\n",
       "      <td>100.0</td>\n",
       "      <td>46.00</td>\n",
       "      <td>100.0</td>\n",
       "      <td>NaN</td>\n",
       "      <td>NaN</td>\n",
       "      <td>NaN</td>\n",
       "      <td>NaN</td>\n",
       "      <td>NaN</td>\n",
       "      <td>...</td>\n",
       "      <td>NaN</td>\n",
       "      <td>NaN</td>\n",
       "      <td>NaN</td>\n",
       "      <td>NaN</td>\n",
       "      <td>NaN</td>\n",
       "      <td>NaN</td>\n",
       "      <td>NaN</td>\n",
       "      <td>NaN</td>\n",
       "      <td>NaN</td>\n",
       "      <td>NaN</td>\n",
       "    </tr>\n",
       "    <tr>\n",
       "      <th>2</th>\n",
       "      <td>14414487207475</td>\n",
       "      <td>45.76</td>\n",
       "      <td>100.0</td>\n",
       "      <td>NaN</td>\n",
       "      <td>NaN</td>\n",
       "      <td>NaN</td>\n",
       "      <td>NaN</td>\n",
       "      <td>NaN</td>\n",
       "      <td>NaN</td>\n",
       "      <td>NaN</td>\n",
       "      <td>...</td>\n",
       "      <td>NaN</td>\n",
       "      <td>NaN</td>\n",
       "      <td>NaN</td>\n",
       "      <td>NaN</td>\n",
       "      <td>NaN</td>\n",
       "      <td>NaN</td>\n",
       "      <td>NaN</td>\n",
       "      <td>NaN</td>\n",
       "      <td>NaN</td>\n",
       "      <td>NaN</td>\n",
       "    </tr>\n",
       "    <tr>\n",
       "      <th>3</th>\n",
       "      <td>14414487510528</td>\n",
       "      <td>45.76</td>\n",
       "      <td>100.0</td>\n",
       "      <td>45.99</td>\n",
       "      <td>100.0</td>\n",
       "      <td>NaN</td>\n",
       "      <td>NaN</td>\n",
       "      <td>NaN</td>\n",
       "      <td>NaN</td>\n",
       "      <td>NaN</td>\n",
       "      <td>...</td>\n",
       "      <td>NaN</td>\n",
       "      <td>NaN</td>\n",
       "      <td>NaN</td>\n",
       "      <td>NaN</td>\n",
       "      <td>NaN</td>\n",
       "      <td>NaN</td>\n",
       "      <td>NaN</td>\n",
       "      <td>NaN</td>\n",
       "      <td>NaN</td>\n",
       "      <td>NaN</td>\n",
       "    </tr>\n",
       "    <tr>\n",
       "      <th>4</th>\n",
       "      <td>14474227691732</td>\n",
       "      <td>45.76</td>\n",
       "      <td>100.0</td>\n",
       "      <td>NaN</td>\n",
       "      <td>NaN</td>\n",
       "      <td>NaN</td>\n",
       "      <td>NaN</td>\n",
       "      <td>NaN</td>\n",
       "      <td>NaN</td>\n",
       "      <td>NaN</td>\n",
       "      <td>...</td>\n",
       "      <td>NaN</td>\n",
       "      <td>NaN</td>\n",
       "      <td>NaN</td>\n",
       "      <td>NaN</td>\n",
       "      <td>NaN</td>\n",
       "      <td>NaN</td>\n",
       "      <td>NaN</td>\n",
       "      <td>NaN</td>\n",
       "      <td>NaN</td>\n",
       "      <td>NaN</td>\n",
       "    </tr>\n",
       "  </tbody>\n",
       "</table>\n",
       "<p>5 rows × 21 columns</p>\n",
       "</div>"
      ],
      "text/plain": [
       "             time  1_bid_price  1_bid_vol  1_ask_price  1_ask_vol  \\\n",
       "0  14408663402213        45.76      100.0          NaN        NaN   \n",
       "1  14408805518619        45.76      100.0        46.00      100.0   \n",
       "2  14414487207475        45.76      100.0          NaN        NaN   \n",
       "3  14414487510528        45.76      100.0        45.99      100.0   \n",
       "4  14474227691732        45.76      100.0          NaN        NaN   \n",
       "\n",
       "   2_bid_price  2_bid_vol  2_ask_price  2_ask_vol  3_bid_price    ...      \\\n",
       "0          NaN        NaN          NaN        NaN          NaN    ...       \n",
       "1          NaN        NaN          NaN        NaN          NaN    ...       \n",
       "2          NaN        NaN          NaN        NaN          NaN    ...       \n",
       "3          NaN        NaN          NaN        NaN          NaN    ...       \n",
       "4          NaN        NaN          NaN        NaN          NaN    ...       \n",
       "\n",
       "   3_ask_price  3_ask_vol  4_bid_price  4_bid_vol  4_ask_price  4_ask_vol  \\\n",
       "0          NaN        NaN          NaN        NaN          NaN        NaN   \n",
       "1          NaN        NaN          NaN        NaN          NaN        NaN   \n",
       "2          NaN        NaN          NaN        NaN          NaN        NaN   \n",
       "3          NaN        NaN          NaN        NaN          NaN        NaN   \n",
       "4          NaN        NaN          NaN        NaN          NaN        NaN   \n",
       "\n",
       "   5_bid_price  5_bid_vol  5_ask_price  5_ask_vol  \n",
       "0          NaN        NaN          NaN        NaN  \n",
       "1          NaN        NaN          NaN        NaN  \n",
       "2          NaN        NaN          NaN        NaN  \n",
       "3          NaN        NaN          NaN        NaN  \n",
       "4          NaN        NaN          NaN        NaN  \n",
       "\n",
       "[5 rows x 21 columns]"
      ]
     },
     "execution_count": 21,
     "metadata": {},
     "output_type": "execute_result"
    }
   ],
   "source": [
    "a.book.head()"
   ]
  },
  {
   "cell_type": "code",
   "execution_count": 22,
   "metadata": {},
   "outputs": [],
   "source": [
    "data = pd.DataFrame(index = a.book.index)\n",
    "data['time'] = a.time"
   ]
  },
  {
   "cell_type": "code",
   "execution_count": 23,
   "metadata": {},
   "outputs": [],
   "source": [
    "data['orderImbalance'] = (a.book['1_bid_vol']-a.book['1_ask_vol'])/(a.book['1_bid_vol']+a.book['1_ask_vol'])"
   ]
  },
  {
   "cell_type": "code",
   "execution_count": 24,
   "metadata": {},
   "outputs": [],
   "source": [
    "data['mid'] = (a.book['1_bid_price']+a.book['1_ask_price'])/2\n",
    "data['direction'] = np.sign(data['mid'].pct_change())"
   ]
  },
  {
   "cell_type": "code",
   "execution_count": 31,
   "metadata": {},
   "outputs": [
    {
     "data": {
      "text/plain": [
       "<matplotlib.axes._subplots.AxesSubplot at 0x11ea1b710>"
      ]
     },
     "execution_count": 31,
     "metadata": {},
     "output_type": "execute_result"
    },
    {
     "data": {
      "image/png": "[encoded data removed]",
      "text/plain": [
       "<Figure size 432x288 with 1 Axes>"
      ]
     },
     "metadata": {
      "needs_background": "light"
     },
     "output_type": "display_data"
    }
   ],
   "source": [
    "data.sample(n=5000).plot.scatter(y='direction',x='orderImbalance')"
   ]
  },
  {
   "cell_type": "code",
   "execution_count": 70,
   "metadata": {},
   "outputs": [
    {
     "name": "stdout",
     "output_type": "stream",
     "text": [
      "0.12228116710875332\n"
     ]
    }
   ],
   "source": [
    "mask = data[(data['orderImbalance'].abs()>0.6) & (data['direction']!=0)]\n",
    "\n",
    "hitRatio = (np.sign(mask['orderImbalance']) == mask['direction']).mean()\n",
    "print(hitRatio)"
   ]
  },
  {
   "cell_type": "code",
   "execution_count": 71,
   "metadata": {},
   "outputs": [
    {
     "data": {
      "text/plain": [
       "<matplotlib.axes._subplots.AxesSubplot at 0x134d901d0>"
      ]
     },
     "execution_count": 71,
     "metadata": {},
     "output_type": "execute_result"
    },
    {
     "data": {
      "image/png": "[encoded data removed]",
      "text/plain": [
       "<Figure size 432x288 with 1 Axes>"
      ]
     },
     "metadata": {
      "needs_background": "light"
     },
     "output_type": "display_data"
    }
   ],
   "source": [
    "data[[\"orderImbalance\", \"direction\"]].iloc[7500:8000].plot()"
   ]
  },
  {
   "cell_type": "code",
   "execution_count": 19,
   "metadata": {},
   "outputs": [
    {
     "data": {
      "text/plain": [
       "<matplotlib.axes._subplots.AxesSubplot at 0x111304c18>"
      ]
     },
     "execution_count": 19,
     "metadata": {},
     "output_type": "execute_result"
    },
    {
     "data": {
      "image/png": "[encoded data removed]",
      "text/plain": [
       "<Figure size 432x288 with 1 Axes>"
      ]
     },
     "metadata": {
      "needs_background": "light"
     },
     "output_type": "display_data"
    }
   ],
   "source": [
    "pd.Series(stats.trimboth(data.time.diff(),0.35)).hist(bins=100)"
   ]
  },
  {
   "cell_type": "code",
   "execution_count": null,
   "metadata": {},
   "outputs": [],
   "source": []
  },
  {
   "cell_type": "code",
   "execution_count": null,
   "metadata": {},
   "outputs": [],
   "source": []
  }
 ],
 "metadata": {
  "kernelspec": {
   "display_name": "Python 3",
   "language": "python",
   "name": "python3"
  },
  "language_info": {
   "codemirror_mode": {
    "name": "ipython",
    "version": 3
   },
   "file_extension": ".py",
   "mimetype": "text/x-python",
   "name": "python",
   "nbconvert_exporter": "python",
   "pygments_lexer": "ipython3",
   "version": "3.7.0"
  }
 },
 "nbformat": 4,
 "nbformat_minor": 2
}
