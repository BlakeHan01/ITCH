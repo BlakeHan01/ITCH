{
 "cells": [
  {
   "cell_type": "code",
   "execution_count": 1,
   "metadata": {},
   "outputs": [],
   "source": [
    "import environment\n",
    "import utility\n",
    "import os\n",
    "import pandas as pd\n",
    "import numpy as np\n",
    "from scipy import stats\n",
    "import matplotlib.pyplot as plt\n",
    "import seaborn as sns"
   ]
  },
  {
   "cell_type": "code",
   "execution_count": 2,
   "metadata": {},
   "outputs": [],
   "source": [
    "plt.rcParams['figure.figsize'] = [18,12]"
   ]
  },
  {
   "cell_type": "markdown",
   "metadata": {},
   "source": [
    "### List of principal securities"
   ]
  },
  {
   "cell_type": "code",
   "execution_count": 3,
   "metadata": {},
   "outputs": [],
   "source": [
    "symbols = [\"AAPL\",\"ARQL\",\"CSCO\",\"QQQ\",\"FB\",\"INTC\",\"QCOM\",\"NVDA\",\"CMCSA\",\"AMD\",\"EEM\",\"SPY\",\"GDX\",\"MSFT\",\"AMZN\"]\n",
    "dates = ['01302019','12282018','05302019','05302018','03272019']"
   ]
  },
  {
   "cell_type": "markdown",
   "metadata": {},
   "source": [
    "#### Function to obtain the series of total Volumes for each hour,second pair\n",
    "sum over minutes (only execution volume)"
   ]
  },
  {
   "cell_type": "code",
   "execution_count": 4,
   "metadata": {},
   "outputs": [],
   "source": [
    "def get_total_size(symbol,date):\n",
    "    a = environment.ts(date,'NASDAQ',symbol,PATH='/Volumes/LaCie/data')\n",
    "    executions = a.messages.loc[a.messages.type=='E']\n",
    "    executions.loc[:,'time'] = executions.time.apply(lambda x: utility.parseNanosecondsToDateTime(x))\n",
    "    executions.loc[:,'hs'] = executions.time.apply(lambda x: (x.hour,x.second))\n",
    "    ts_total_size_by_sec = executions.groupby(['hs']).mean().loc[:,\"size\"]\n",
    "    return ts_total_size_by_sec.loc[ts_total_size_by_sec.index.map(lambda x: x[0]>=9 and x[0]<=16)]"
   ]
  },
  {
   "cell_type": "code",
   "execution_count": null,
   "metadata": {},
   "outputs": [
    {
     "name": "stdout",
     "output_type": "stream",
     "text": [
      "AAPL 01302019\n"
     ]
    },
    {
     "name": "stderr",
     "output_type": "stream",
     "text": [
      "/usr/local/lib/python3.7/site-packages/pandas/core/indexing.py:543: SettingWithCopyWarning: \n",
      "A value is trying to be set on a copy of a slice from a DataFrame.\n",
      "Try using .loc[row_indexer,col_indexer] = value instead\n",
      "\n",
      "See the caveats in the documentation: http://pandas.pydata.org/pandas-docs/stable/indexing.html#indexing-view-versus-copy\n",
      "  self.obj[item] = s\n",
      "/usr/local/lib/python3.7/site-packages/pandas/core/indexing.py:362: SettingWithCopyWarning: \n",
      "A value is trying to be set on a copy of a slice from a DataFrame.\n",
      "Try using .loc[row_indexer,col_indexer] = value instead\n",
      "\n",
      "See the caveats in the documentation: http://pandas.pydata.org/pandas-docs/stable/indexing.html#indexing-view-versus-copy\n",
      "  self.obj[key] = _infer_fill_value(value)\n"
     ]
    },
    {
     "name": "stdout",
     "output_type": "stream",
     "text": [
      "AAPL 12282018\n",
      "AAPL 05302019\n",
      "AAPL 05302018\n",
      "Executing BookConstructor...\n",
      "pickling...\n",
      "AAPL 03272019\n",
      "Executing BookConstructor...\n"
     ]
    }
   ],
   "source": [
    "df = pd.DataFrame()\n",
    "for s in symbols:\n",
    "    for d in dates:\n",
    "        print(s,d)\n",
    "        try:\n",
    "            df[s+'_'+d] = get_total_size(s,d)\n",
    "        except:\n",
    "            pass"
   ]
  },
  {
   "cell_type": "code",
   "execution_count": null,
   "metadata": {},
   "outputs": [],
   "source": [
    "df.mean(axis=1)\n",
    "orig_cols = df.columns\n",
    "df.loc[:,'hour'] = df.index.map(lambda x: x[0])\n",
    "df.loc[:,'sec'] = df.index.map(lambda x: x[1])"
   ]
  },
  {
   "cell_type": "code",
   "execution_count": null,
   "metadata": {},
   "outputs": [],
   "source": [
    "n=len(set(df.sec.values))\n",
    "m=len(set(df.hour.values))\n",
    "B = np.zeros([n,m])\n",
    "for i in range(n):\n",
    "    for j in range(m):\n",
    "        ans = df.loc[(df.hour==j+9) & (df.sec==i)].loc[:,orig_cols].fillna(0).mean(axis=1).values\n",
    "        if ans.size>0:    \n",
    "            B[i,j] = ans\n",
    "\n",
    "A = B/np.sum(B,axis=0)/m\n",
    "            \n",
    "vol_df = pd.DataFrame(data=A*100,index = range(n), columns = range(9,9+m))"
   ]
  },
  {
   "cell_type": "code",
   "execution_count": null,
   "metadata": {},
   "outputs": [],
   "source": [
    "sns.heatmap(vol_df)"
   ]
  }
 ],
 "metadata": {
  "kernelspec": {
   "display_name": "Python 3",
   "language": "python",
   "name": "python3"
  },
  "language_info": {
   "codemirror_mode": {
    "name": "ipython",
    "version": 3
   },
   "file_extension": ".py",
   "mimetype": "text/x-python",
   "name": "python",
   "nbconvert_exporter": "python",
   "pygments_lexer": "ipython3",
   "version": "3.7.0"
  }
 },
 "nbformat": 4,
 "nbformat_minor": 2
}
